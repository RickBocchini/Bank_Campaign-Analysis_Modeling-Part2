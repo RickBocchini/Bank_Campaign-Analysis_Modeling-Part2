{
 "cells": [
  {
   "cell_type": "markdown",
   "metadata": {},
   "source": [
    "# Bank Campaign Analysis/Modeling Part 2"
   ]
  },
  {
   "cell_type": "code",
   "execution_count": 13,
   "metadata": {},
   "outputs": [],
   "source": [
    "#Import relevant packages\n",
    "\n",
    "import pandas as pd\n",
    "import numpy as np\n",
    "import matplotlib.pyplot as plt \n",
    "import seaborn as sns \n",
    "from sklearn.datasets import make_blobs, make_regression\n",
    "from sklearn.model_selection import train_test_split\n",
    "from sklearn.linear_model import LogisticRegression\n",
    "from sklearn.ensemble import GradientBoostingClassifier\n",
    "from sklearn.ensemble import RandomForestClassifier\n",
    "from sklearn.preprocessing import PolynomialFeatures\n",
    "from sklearn.model_selection import KFold, cross_val_score, cross_validate\n",
    "from sklearn.preprocessing import OneHotEncoder, LabelEncoder\n",
    "import collections as coll\n",
    "from sklearn.preprocessing import OrdinalEncoder\n",
    "from sklearn.preprocessing import LabelEncoder\n",
    "from sklearn.metrics import recall_score\n",
    "from sklearn.metrics import precision_score\n",
    "from sklearn.metrics import plot_confusion_matrix, plot_precision_recall_curve,plot_roc_curve\n",
    "from sklearn.metrics import roc_curve\n",
    "from sklearn.metrics import plot_roc_curve\n",
    "from sklearn.inspection import permutation_importance\n",
    "from sklearn.metrics import accuracy_score\n",
    "from sklearn.tree import DecisionTreeClassifier\n",
    "from sklearn.compose import make_column_transformer\n",
    "from sklearn.preprocessing import StandardScaler\n",
    "from sklearn.metrics import confusion_matrix\n",
    "from sklearn.decomposition import PCA\n",
    "from sklearn.metrics import classification_report\n",
    "from sklearn.model_selection import GridSearchCV\n",
    "from sklearn.metrics import balanced_accuracy_score\n",
    "from sklearn.pipeline import Pipeline\n",
    "from sklearn.svm import SVC\n",
    "from sklearn.model_selection import StratifiedKFold"
   ]
  },
  {
   "cell_type": "code",
   "execution_count": 14,
   "metadata": {},
   "outputs": [
    {
     "data": {
      "text/html": [
       "<div>\n",
       "<style scoped>\n",
       "    .dataframe tbody tr th:only-of-type {\n",
       "        vertical-align: middle;\n",
       "    }\n",
       "\n",
       "    .dataframe tbody tr th {\n",
       "        vertical-align: top;\n",
       "    }\n",
       "\n",
       "    .dataframe thead th {\n",
       "        text-align: right;\n",
       "    }\n",
       "</style>\n",
       "<table border=\"1\" class=\"dataframe\">\n",
       "  <thead>\n",
       "    <tr style=\"text-align: right;\">\n",
       "      <th></th>\n",
       "      <th>age</th>\n",
       "      <th>job</th>\n",
       "      <th>marital</th>\n",
       "      <th>education</th>\n",
       "      <th>default</th>\n",
       "      <th>balance</th>\n",
       "      <th>housing</th>\n",
       "      <th>loan</th>\n",
       "      <th>contact</th>\n",
       "      <th>day</th>\n",
       "      <th>month</th>\n",
       "      <th>duration</th>\n",
       "      <th>campaign</th>\n",
       "      <th>pdays</th>\n",
       "      <th>previous</th>\n",
       "      <th>poutcome</th>\n",
       "      <th>y</th>\n",
       "    </tr>\n",
       "  </thead>\n",
       "  <tbody>\n",
       "    <tr>\n",
       "      <th>0</th>\n",
       "      <td>30</td>\n",
       "      <td>unemployed</td>\n",
       "      <td>married</td>\n",
       "      <td>primary</td>\n",
       "      <td>no</td>\n",
       "      <td>1787</td>\n",
       "      <td>no</td>\n",
       "      <td>no</td>\n",
       "      <td>cellular</td>\n",
       "      <td>19</td>\n",
       "      <td>oct</td>\n",
       "      <td>79</td>\n",
       "      <td>1</td>\n",
       "      <td>-1</td>\n",
       "      <td>0</td>\n",
       "      <td>unknown</td>\n",
       "      <td>no</td>\n",
       "    </tr>\n",
       "    <tr>\n",
       "      <th>1</th>\n",
       "      <td>33</td>\n",
       "      <td>services</td>\n",
       "      <td>married</td>\n",
       "      <td>secondary</td>\n",
       "      <td>no</td>\n",
       "      <td>4789</td>\n",
       "      <td>yes</td>\n",
       "      <td>yes</td>\n",
       "      <td>cellular</td>\n",
       "      <td>11</td>\n",
       "      <td>may</td>\n",
       "      <td>220</td>\n",
       "      <td>1</td>\n",
       "      <td>339</td>\n",
       "      <td>4</td>\n",
       "      <td>failure</td>\n",
       "      <td>no</td>\n",
       "    </tr>\n",
       "    <tr>\n",
       "      <th>2</th>\n",
       "      <td>35</td>\n",
       "      <td>management</td>\n",
       "      <td>single</td>\n",
       "      <td>tertiary</td>\n",
       "      <td>no</td>\n",
       "      <td>1350</td>\n",
       "      <td>yes</td>\n",
       "      <td>no</td>\n",
       "      <td>cellular</td>\n",
       "      <td>16</td>\n",
       "      <td>apr</td>\n",
       "      <td>185</td>\n",
       "      <td>1</td>\n",
       "      <td>330</td>\n",
       "      <td>1</td>\n",
       "      <td>failure</td>\n",
       "      <td>no</td>\n",
       "    </tr>\n",
       "    <tr>\n",
       "      <th>3</th>\n",
       "      <td>30</td>\n",
       "      <td>management</td>\n",
       "      <td>married</td>\n",
       "      <td>tertiary</td>\n",
       "      <td>no</td>\n",
       "      <td>1476</td>\n",
       "      <td>yes</td>\n",
       "      <td>yes</td>\n",
       "      <td>unknown</td>\n",
       "      <td>3</td>\n",
       "      <td>jun</td>\n",
       "      <td>199</td>\n",
       "      <td>4</td>\n",
       "      <td>-1</td>\n",
       "      <td>0</td>\n",
       "      <td>unknown</td>\n",
       "      <td>no</td>\n",
       "    </tr>\n",
       "    <tr>\n",
       "      <th>4</th>\n",
       "      <td>59</td>\n",
       "      <td>blue-collar</td>\n",
       "      <td>married</td>\n",
       "      <td>secondary</td>\n",
       "      <td>no</td>\n",
       "      <td>0</td>\n",
       "      <td>yes</td>\n",
       "      <td>no</td>\n",
       "      <td>unknown</td>\n",
       "      <td>5</td>\n",
       "      <td>may</td>\n",
       "      <td>226</td>\n",
       "      <td>1</td>\n",
       "      <td>-1</td>\n",
       "      <td>0</td>\n",
       "      <td>unknown</td>\n",
       "      <td>no</td>\n",
       "    </tr>\n",
       "    <tr>\n",
       "      <th>...</th>\n",
       "      <td>...</td>\n",
       "      <td>...</td>\n",
       "      <td>...</td>\n",
       "      <td>...</td>\n",
       "      <td>...</td>\n",
       "      <td>...</td>\n",
       "      <td>...</td>\n",
       "      <td>...</td>\n",
       "      <td>...</td>\n",
       "      <td>...</td>\n",
       "      <td>...</td>\n",
       "      <td>...</td>\n",
       "      <td>...</td>\n",
       "      <td>...</td>\n",
       "      <td>...</td>\n",
       "      <td>...</td>\n",
       "      <td>...</td>\n",
       "    </tr>\n",
       "    <tr>\n",
       "      <th>4516</th>\n",
       "      <td>33</td>\n",
       "      <td>services</td>\n",
       "      <td>married</td>\n",
       "      <td>secondary</td>\n",
       "      <td>no</td>\n",
       "      <td>-333</td>\n",
       "      <td>yes</td>\n",
       "      <td>no</td>\n",
       "      <td>cellular</td>\n",
       "      <td>30</td>\n",
       "      <td>jul</td>\n",
       "      <td>329</td>\n",
       "      <td>5</td>\n",
       "      <td>-1</td>\n",
       "      <td>0</td>\n",
       "      <td>unknown</td>\n",
       "      <td>no</td>\n",
       "    </tr>\n",
       "    <tr>\n",
       "      <th>4517</th>\n",
       "      <td>57</td>\n",
       "      <td>self-employed</td>\n",
       "      <td>married</td>\n",
       "      <td>tertiary</td>\n",
       "      <td>yes</td>\n",
       "      <td>-3313</td>\n",
       "      <td>yes</td>\n",
       "      <td>yes</td>\n",
       "      <td>unknown</td>\n",
       "      <td>9</td>\n",
       "      <td>may</td>\n",
       "      <td>153</td>\n",
       "      <td>1</td>\n",
       "      <td>-1</td>\n",
       "      <td>0</td>\n",
       "      <td>unknown</td>\n",
       "      <td>no</td>\n",
       "    </tr>\n",
       "    <tr>\n",
       "      <th>4518</th>\n",
       "      <td>57</td>\n",
       "      <td>technician</td>\n",
       "      <td>married</td>\n",
       "      <td>secondary</td>\n",
       "      <td>no</td>\n",
       "      <td>295</td>\n",
       "      <td>no</td>\n",
       "      <td>no</td>\n",
       "      <td>cellular</td>\n",
       "      <td>19</td>\n",
       "      <td>aug</td>\n",
       "      <td>151</td>\n",
       "      <td>11</td>\n",
       "      <td>-1</td>\n",
       "      <td>0</td>\n",
       "      <td>unknown</td>\n",
       "      <td>no</td>\n",
       "    </tr>\n",
       "    <tr>\n",
       "      <th>4519</th>\n",
       "      <td>28</td>\n",
       "      <td>blue-collar</td>\n",
       "      <td>married</td>\n",
       "      <td>secondary</td>\n",
       "      <td>no</td>\n",
       "      <td>1137</td>\n",
       "      <td>no</td>\n",
       "      <td>no</td>\n",
       "      <td>cellular</td>\n",
       "      <td>6</td>\n",
       "      <td>feb</td>\n",
       "      <td>129</td>\n",
       "      <td>4</td>\n",
       "      <td>211</td>\n",
       "      <td>3</td>\n",
       "      <td>other</td>\n",
       "      <td>no</td>\n",
       "    </tr>\n",
       "    <tr>\n",
       "      <th>4520</th>\n",
       "      <td>44</td>\n",
       "      <td>entrepreneur</td>\n",
       "      <td>single</td>\n",
       "      <td>tertiary</td>\n",
       "      <td>no</td>\n",
       "      <td>1136</td>\n",
       "      <td>yes</td>\n",
       "      <td>yes</td>\n",
       "      <td>cellular</td>\n",
       "      <td>3</td>\n",
       "      <td>apr</td>\n",
       "      <td>345</td>\n",
       "      <td>2</td>\n",
       "      <td>249</td>\n",
       "      <td>7</td>\n",
       "      <td>other</td>\n",
       "      <td>no</td>\n",
       "    </tr>\n",
       "  </tbody>\n",
       "</table>\n",
       "<p>4521 rows × 17 columns</p>\n",
       "</div>"
      ],
      "text/plain": [
       "      age            job  marital  education default  balance housing loan  \\\n",
       "0      30     unemployed  married    primary      no     1787      no   no   \n",
       "1      33       services  married  secondary      no     4789     yes  yes   \n",
       "2      35     management   single   tertiary      no     1350     yes   no   \n",
       "3      30     management  married   tertiary      no     1476     yes  yes   \n",
       "4      59    blue-collar  married  secondary      no        0     yes   no   \n",
       "...   ...            ...      ...        ...     ...      ...     ...  ...   \n",
       "4516   33       services  married  secondary      no     -333     yes   no   \n",
       "4517   57  self-employed  married   tertiary     yes    -3313     yes  yes   \n",
       "4518   57     technician  married  secondary      no      295      no   no   \n",
       "4519   28    blue-collar  married  secondary      no     1137      no   no   \n",
       "4520   44   entrepreneur   single   tertiary      no     1136     yes  yes   \n",
       "\n",
       "       contact  day month  duration  campaign  pdays  previous poutcome   y  \n",
       "0     cellular   19   oct        79         1     -1         0  unknown  no  \n",
       "1     cellular   11   may       220         1    339         4  failure  no  \n",
       "2     cellular   16   apr       185         1    330         1  failure  no  \n",
       "3      unknown    3   jun       199         4     -1         0  unknown  no  \n",
       "4      unknown    5   may       226         1     -1         0  unknown  no  \n",
       "...        ...  ...   ...       ...       ...    ...       ...      ...  ..  \n",
       "4516  cellular   30   jul       329         5     -1         0  unknown  no  \n",
       "4517   unknown    9   may       153         1     -1         0  unknown  no  \n",
       "4518  cellular   19   aug       151        11     -1         0  unknown  no  \n",
       "4519  cellular    6   feb       129         4    211         3    other  no  \n",
       "4520  cellular    3   apr       345         2    249         7    other  no  \n",
       "\n",
       "[4521 rows x 17 columns]"
      ]
     },
     "metadata": {},
     "output_type": "display_data"
    }
   ],
   "source": [
    "#import dataset\n",
    "\n",
    "data = pd.read_csv('/Users/apple/Desktop/bank/bank.csv', delimiter=';')\n",
    "display(data)"
   ]
  },
  {
   "cell_type": "code",
   "execution_count": 15,
   "metadata": {},
   "outputs": [],
   "source": [
    "#create variables\n",
    "\n",
    "X = data.drop(columns='y')\n",
    "y = data.y"
   ]
  },
  {
   "cell_type": "code",
   "execution_count": 16,
   "metadata": {},
   "outputs": [],
   "source": [
    "#dropping variables\n",
    "\n",
    "X.drop(columns = ['day', 'month', 'default', 'poutcome', 'duration'], inplace = True)"
   ]
  },
  {
   "cell_type": "markdown",
   "metadata": {},
   "source": [
    "###### The same variables were dropped for the reasons explained in the assignment 1"
   ]
  },
  {
   "cell_type": "code",
   "execution_count": 17,
   "metadata": {},
   "outputs": [
    {
     "data": {
      "text/plain": [
       "no     4000\n",
       "yes     521\n",
       "Name: y, dtype: int64"
      ]
     },
     "execution_count": 17,
     "metadata": {},
     "output_type": "execute_result"
    }
   ],
   "source": [
    "#distribution of the target variable\n",
    "\n",
    "y.value_counts() #unbalanced towards 'no'"
   ]
  },
  {
   "cell_type": "markdown",
   "metadata": {},
   "source": [
    "###### This last information is very important because it is telling us that we should look into different metrics to evaluate the models!"
   ]
  },
  {
   "cell_type": "markdown",
   "metadata": {},
   "source": [
    "## Question 1 "
   ]
  },
  {
   "cell_type": "markdown",
   "metadata": {},
   "source": [
    "### Train a RandomForestClassifier: obtain the Confusion Matrix and plot the Precision vs Recall Curve. Comment on the results"
   ]
  },
  {
   "cell_type": "code",
   "execution_count": 18,
   "metadata": {},
   "outputs": [
    {
     "data": {
      "text/plain": [
       "array([0, 0, 0, ..., 0, 0, 0])"
      ]
     },
     "metadata": {},
     "output_type": "display_data"
    }
   ],
   "source": [
    "#label encoder on target variable\n",
    "\n",
    "lbl_e = LabelEncoder()\n",
    "lbl_e.fit(y)\n",
    "y = lbl_e.transform(y)\n",
    "display(y)"
   ]
  },
  {
   "cell_type": "markdown",
   "metadata": {},
   "source": [
    "###### This transformation was made only to make the values clearer (either 1 or 0 rather than \"No\" and \"Yes\")"
   ]
  },
  {
   "cell_type": "code",
   "execution_count": 19,
   "metadata": {},
   "outputs": [],
   "source": [
    "#Helper code\n",
    "\n",
    "categorical = X.select_dtypes(include='object').columns\n",
    "numerical = X.select_dtypes(exclude='object').columns\n",
    "\n",
    "clt = make_column_transformer((StandardScaler(), numerical),(OrdinalEncoder(),\n",
    "categorical))\n",
    "\n",
    "X_train, X_test, y_train, y_test = train_test_split(X, y, random_state=42)\n",
    "\n",
    "X_enc_tr = clt.fit_transform(X_train)\n",
    "X_enc_ts = clt.transform(X_test)"
   ]
  },
  {
   "cell_type": "code",
   "execution_count": 20,
   "metadata": {},
   "outputs": [
    {
     "name": "stdout",
     "output_type": "stream",
     "text": [
      "0.9843657817109145\n",
      "0.8850574712643678\n"
     ]
    }
   ],
   "source": [
    "#Train RandomForestClassifier\n",
    "\n",
    "ens = RandomForestClassifier(n_estimators=10, random_state=42)\n",
    "ens.fit(X_enc_tr, y_train)\n",
    "\n",
    "print(ens.score(X_enc_tr, y_train))\n",
    "print(ens.score(X_enc_ts, y_test))"
   ]
  },
  {
   "cell_type": "markdown",
   "metadata": {},
   "source": [
    "###### Insight: the accuracy on the training set is very high, but it decreases considerably on the test set, indicating there exists overfitting because of the variation between the two. This is due to the fact that our model is uncapable to generalize as we would expect once new values are fed into it"
   ]
  },
  {
   "cell_type": "code",
   "execution_count": 21,
   "metadata": {},
   "outputs": [
    {
     "data": {
      "text/plain": [
       "array([0, 0, 0, ..., 0, 0, 1])"
      ]
     },
     "metadata": {},
     "output_type": "display_data"
    }
   ],
   "source": [
    "#Predict values using RandomForestClassifier\n",
    "\n",
    "preds = ens.predict(X_enc_ts)\n",
    "display(preds)"
   ]
  },
  {
   "cell_type": "code",
   "execution_count": 22,
   "metadata": {},
   "outputs": [
    {
     "name": "stdout",
     "output_type": "stream",
     "text": [
      "              precision    recall  f1-score   support\n",
      "\n",
      "           0       0.90      0.98      0.94      1006\n",
      "           1       0.41      0.10      0.16       125\n",
      "\n",
      "    accuracy                           0.89      1131\n",
      "   macro avg       0.66      0.54      0.55      1131\n",
      "weighted avg       0.84      0.89      0.85      1131\n",
      "\n"
     ]
    }
   ],
   "source": [
    "#produce classification report\n",
    "\n",
    "report = classification_report(y_test, preds)\n",
    "print(report)"
   ]
  },
  {
   "cell_type": "markdown",
   "metadata": {},
   "source": [
    "###### Insight: again, as we can see the values for Precision and Recall are considerably high for class 0. The same cannot be stated for class 1 due to the very unbalanced dataset that we are analysing"
   ]
  },
  {
   "cell_type": "code",
   "execution_count": 23,
   "metadata": {},
   "outputs": [
    {
     "data": {
      "text/plain": [
       "array([[989,  17],\n",
       "       [113,  12]])"
      ]
     },
     "metadata": {},
     "output_type": "display_data"
    },
    {
     "data": {
      "text/plain": [
       "array([[0.98310139, 0.01689861],\n",
       "       [0.904     , 0.096     ]])"
      ]
     },
     "metadata": {},
     "output_type": "display_data"
    }
   ],
   "source": [
    "#Get Confusion Matrix\n",
    "\n",
    "cm1 = confusion_matrix(y_test, preds)                      #with absolute values\n",
    "cm1_n = confusion_matrix(y_test, preds, normalize='true')  #with normalised values\n",
    "display(cm1)\n",
    "display(cm1_n)"
   ]
  },
  {
   "cell_type": "code",
   "execution_count": 24,
   "metadata": {},
   "outputs": [
    {
     "data": {
      "image/png": "[encoded data removed]",
      "text/plain": [
       "<Figure size 432x288 with 2 Axes>"
      ]
     },
     "metadata": {
      "needs_background": "light"
     },
     "output_type": "display_data"
    },
    {
     "data": {
      "image/png": "[encoded data removed]",
      "text/plain": [
       "<Figure size 432x288 with 2 Axes>"
      ]
     },
     "metadata": {
      "needs_background": "light"
     },
     "output_type": "display_data"
    }
   ],
   "source": [
    "#Plot Confusion Matrix\n",
    "\n",
    "cm1_plot = plot_confusion_matrix(ens, X_enc_ts, y_test, cmap=plt.cm.Blues)                     #with absolute values\n",
    "cm1_n_plot = plot_confusion_matrix(ens, X_enc_ts, y_test, cmap=plt.cm.Reds, normalize= 'true') #with normalised values"
   ]
  },
  {
   "cell_type": "code",
   "execution_count": 25,
   "metadata": {},
   "outputs": [
    {
     "data": {
      "text/plain": [
       "0.5395506958250497"
      ]
     },
     "execution_count": 25,
     "metadata": {},
     "output_type": "execute_result"
    }
   ],
   "source": [
    "#average Accuracy\n",
    "\n",
    "balanced_accuracy_score(y_test, preds)"
   ]
  },
  {
   "cell_type": "markdown",
   "metadata": {},
   "source": [
    "###### Explanation: the balanced Accuracy, which is computed by calculating the weighted average of Recall between the two classes, is crucial when dealing with unbalanced dataset to have an overall view on the performance of the model, which in this case produces great results for class 0 but not for class 1"
   ]
  },
  {
   "cell_type": "code",
   "execution_count": 26,
   "metadata": {},
   "outputs": [
    {
     "data": {
      "image/png": "[encoded data removed]",
      "text/plain": [
       "<Figure size 432x288 with 1 Axes>"
      ]
     },
     "metadata": {
      "needs_background": "light"
     },
     "output_type": "display_data"
    }
   ],
   "source": [
    "#Plot Precision vs Recall Curve\n",
    "\n",
    "P_R_C1 = plot_precision_recall_curve(ens, X_enc_ts, y_test)"
   ]
  },
  {
   "cell_type": "markdown",
   "metadata": {},
   "source": [
    "###### Insight: The results obtained are not promising, especially if we take into account the underrepresented class. Indeed, we can see by looking at the normalised confusion matrix, that it shows a very little value for the recall of class 1. This is due to the fact that only 11.5% of observations show this latter value for the target variable. The main difference between only examining the Accuracy vs also taking into account the Precision and the Recall consists of having the chance to break down the analysis for the different classes in evaluating the model; in fact the Precision is computed as (TP/(TP+FP)) and the Recall is computed as (TP/(TP+FN)). Furthermore, this is the best example to see how important these two metrics are because, although the accuracy reaches 98% on the training set, the recall is only of around 10% for class 1. Finally, by examining the Precision vs Recall curve we can see how trying to improve the recall marginally affects the level of the Recall previously achieved, which indicates a very bad tradeoff between the two metrics considering this model"
   ]
  },
  {
   "cell_type": "markdown",
   "metadata": {},
   "source": [
    "# Question 2"
   ]
  },
  {
   "cell_type": "markdown",
   "metadata": {},
   "source": [
    "### Application of PCA and Variance Analysis"
   ]
  },
  {
   "cell_type": "code",
   "execution_count": 27,
   "metadata": {},
   "outputs": [
    {
     "name": "stdout",
     "output_type": "stream",
     "text": [
      "[0.59879364 0.09542593 0.0654993  0.05628406]\n"
     ]
    },
    {
     "data": {
      "text/html": [
       "<div>\n",
       "<style scoped>\n",
       "    .dataframe tbody tr th:only-of-type {\n",
       "        vertical-align: middle;\n",
       "    }\n",
       "\n",
       "    .dataframe tbody tr th {\n",
       "        vertical-align: top;\n",
       "    }\n",
       "\n",
       "    .dataframe thead th {\n",
       "        text-align: right;\n",
       "    }\n",
       "</style>\n",
       "<table border=\"1\" class=\"dataframe\">\n",
       "  <thead>\n",
       "    <tr style=\"text-align: right;\">\n",
       "      <th></th>\n",
       "      <th>age</th>\n",
       "      <th>job</th>\n",
       "      <th>marital</th>\n",
       "      <th>education</th>\n",
       "      <th>balance</th>\n",
       "      <th>housing</th>\n",
       "      <th>loan</th>\n",
       "      <th>contact</th>\n",
       "      <th>campaign</th>\n",
       "      <th>pdays</th>\n",
       "      <th>previous</th>\n",
       "    </tr>\n",
       "  </thead>\n",
       "  <tbody>\n",
       "    <tr>\n",
       "      <th>0</th>\n",
       "      <td>-0.006656</td>\n",
       "      <td>0.002255</td>\n",
       "      <td>-0.004156</td>\n",
       "      <td>-0.010319</td>\n",
       "      <td>-0.002177</td>\n",
       "      <td>0.998490</td>\n",
       "      <td>0.012049</td>\n",
       "      <td>0.043501</td>\n",
       "      <td>-0.020314</td>\n",
       "      <td>-0.005355</td>\n",
       "      <td>-0.019015</td>\n",
       "    </tr>\n",
       "    <tr>\n",
       "      <th>1</th>\n",
       "      <td>-0.024087</td>\n",
       "      <td>0.061357</td>\n",
       "      <td>-0.153828</td>\n",
       "      <td>0.670132</td>\n",
       "      <td>0.652505</td>\n",
       "      <td>-0.000521</td>\n",
       "      <td>0.029636</td>\n",
       "      <td>0.046504</td>\n",
       "      <td>0.016059</td>\n",
       "      <td>-0.007516</td>\n",
       "      <td>-0.306262</td>\n",
       "    </tr>\n",
       "    <tr>\n",
       "      <th>2</th>\n",
       "      <td>0.813874</td>\n",
       "      <td>0.504611</td>\n",
       "      <td>-0.087492</td>\n",
       "      <td>-0.013518</td>\n",
       "      <td>0.004097</td>\n",
       "      <td>0.008824</td>\n",
       "      <td>-0.240250</td>\n",
       "      <td>-0.087208</td>\n",
       "      <td>-0.095001</td>\n",
       "      <td>-0.018119</td>\n",
       "      <td>0.019137</td>\n",
       "    </tr>\n",
       "    <tr>\n",
       "      <th>3</th>\n",
       "      <td>-0.118952</td>\n",
       "      <td>0.400530</td>\n",
       "      <td>0.887526</td>\n",
       "      <td>0.028322</td>\n",
       "      <td>0.067554</td>\n",
       "      <td>-0.005612</td>\n",
       "      <td>0.074089</td>\n",
       "      <td>0.100341</td>\n",
       "      <td>-0.014257</td>\n",
       "      <td>-0.008857</td>\n",
       "      <td>-0.128402</td>\n",
       "    </tr>\n",
       "  </tbody>\n",
       "</table>\n",
       "</div>"
      ],
      "text/plain": [
       "        age       job   marital  education   balance   housing      loan  \\\n",
       "0 -0.006656  0.002255 -0.004156  -0.010319 -0.002177  0.998490  0.012049   \n",
       "1 -0.024087  0.061357 -0.153828   0.670132  0.652505 -0.000521  0.029636   \n",
       "2  0.813874  0.504611 -0.087492  -0.013518  0.004097  0.008824 -0.240250   \n",
       "3 -0.118952  0.400530  0.887526   0.028322  0.067554 -0.005612  0.074089   \n",
       "\n",
       "    contact  campaign     pdays  previous  \n",
       "0  0.043501 -0.020314 -0.005355 -0.019015  \n",
       "1  0.046504  0.016059 -0.007516 -0.306262  \n",
       "2 -0.087208 -0.095001 -0.018119  0.019137  \n",
       "3  0.100341 -0.014257 -0.008857 -0.128402  "
      ]
     },
     "metadata": {},
     "output_type": "display_data"
    }
   ],
   "source": [
    "#PCA application\n",
    "\n",
    "pca = PCA(n_components= 4, random_state=42).fit(X_enc_tr)\n",
    "X_pca_tr = pca.transform(X_enc_tr)\n",
    "print(pca.explained_variance_ratio_)\n",
    "display(pd.DataFrame(pca.components_, columns=X.columns))"
   ]
  },
  {
   "cell_type": "code",
   "execution_count": 28,
   "metadata": {},
   "outputs": [
    {
     "name": "stdout",
     "output_type": "stream",
     "text": [
      "0.8160029314247714\n"
     ]
    }
   ],
   "source": [
    "#Variance explained by the 4 principal components\n",
    "\n",
    "print(sum(pca.explained_variance_ratio_)) "
   ]
  },
  {
   "cell_type": "markdown",
   "metadata": {},
   "source": [
    "###### Insight: the Variance represented in the 4 principal components from the initial dataset is equal to 0.816"
   ]
  },
  {
   "cell_type": "markdown",
   "metadata": {},
   "source": [
    "# Question 3 "
   ]
  },
  {
   "cell_type": "markdown",
   "metadata": {},
   "source": [
    "### Using the PCA transformation and a RandomForestClassifier (n_estimators=10), score the model (accuracy) and compute/plot the confusion matrix."
   ]
  },
  {
   "cell_type": "code",
   "execution_count": 29,
   "metadata": {},
   "outputs": [],
   "source": [
    "#Application of PCA on the test set\n",
    "\n",
    "X_pca_ts = pca.transform(X_enc_ts)"
   ]
  },
  {
   "cell_type": "code",
   "execution_count": 30,
   "metadata": {},
   "outputs": [
    {
     "name": "stdout",
     "output_type": "stream",
     "text": [
      "0.9828908554572271\n",
      "0.8841732979664014\n"
     ]
    }
   ],
   "source": [
    "ens1 = RandomForestClassifier(n_estimators=10, random_state=42)\n",
    "ens1.fit(X_pca_tr, y_train)\n",
    "print(ens1.score(X_pca_tr, y_train))\n",
    "print(ens1.score(X_pca_ts, y_test))"
   ]
  },
  {
   "cell_type": "markdown",
   "metadata": {},
   "source": [
    "###### Insight: we can identify the presence of overfitting due to the variation of the Accuracy between the training and test set, indicating that the model is not generalizing correctly when it is fed with new data"
   ]
  },
  {
   "cell_type": "code",
   "execution_count": 31,
   "metadata": {},
   "outputs": [
    {
     "data": {
      "text/plain": [
       "array([0, 0, 0, ..., 0, 0, 0])"
      ]
     },
     "metadata": {},
     "output_type": "display_data"
    }
   ],
   "source": [
    "#get predictions \n",
    "\n",
    "preds1 = ens1.predict(X_pca_ts)\n",
    "display(preds1)"
   ]
  },
  {
   "cell_type": "code",
   "execution_count": 32,
   "metadata": {},
   "outputs": [
    {
     "name": "stdout",
     "output_type": "stream",
     "text": [
      "              precision    recall  f1-score   support\n",
      "\n",
      "           0       0.89      0.99      0.94      1006\n",
      "           1       0.36      0.06      0.11       125\n",
      "\n",
      "    accuracy                           0.88      1131\n",
      "   macro avg       0.63      0.53      0.52      1131\n",
      "weighted avg       0.84      0.88      0.85      1131\n",
      "\n"
     ]
    }
   ],
   "source": [
    "#produce classification report\n",
    "\n",
    "report = classification_report(y_test, preds1)\n",
    "print(report)"
   ]
  },
  {
   "cell_type": "markdown",
   "metadata": {},
   "source": [
    "###### Insight: the Recall is even worse for this model when looking at class 1 compared to the previous model (0.06 vs 0.1), while the values for the metrics for class 0 are almost overlapped with the ones of the previous model"
   ]
  },
  {
   "cell_type": "code",
   "execution_count": 33,
   "metadata": {},
   "outputs": [
    {
     "data": {
      "text/plain": [
       "array([[992,  14],\n",
       "       [117,   8]])"
      ]
     },
     "metadata": {},
     "output_type": "display_data"
    },
    {
     "data": {
      "text/plain": [
       "array([[0.9860835, 0.0139165],\n",
       "       [0.936    , 0.064    ]])"
      ]
     },
     "metadata": {},
     "output_type": "display_data"
    }
   ],
   "source": [
    "#get Confusion Matrix\n",
    "\n",
    "cm2 = confusion_matrix(y_test, preds1)                      #with absolute values\n",
    "cm2_n = confusion_matrix(y_test, preds1, normalize='true')   #with normalised values\n",
    "display(cm2)\n",
    "display(cm2_n)"
   ]
  },
  {
   "cell_type": "code",
   "execution_count": 34,
   "metadata": {},
   "outputs": [
    {
     "data": {
      "image/png": "[encoded data removed]",
      "text/plain": [
       "<Figure size 432x288 with 2 Axes>"
      ]
     },
     "metadata": {
      "needs_background": "light"
     },
     "output_type": "display_data"
    },
    {
     "data": {
      "image/png": "[encoded data removed]",
      "text/plain": [
       "<Figure size 432x288 with 2 Axes>"
      ]
     },
     "metadata": {
      "needs_background": "light"
     },
     "output_type": "display_data"
    }
   ],
   "source": [
    "#plot Confusion Matrix\n",
    "\n",
    "cm2_plot = plot_confusion_matrix(ens1, X_pca_ts, y_test, cmap=plt.cm.Blues)                     #with absolute values\n",
    "cm2_n_plot = plot_confusion_matrix(ens1, X_pca_ts, y_test, cmap=plt.cm.Reds, normalize= 'true') #with normalised values"
   ]
  },
  {
   "cell_type": "code",
   "execution_count": 35,
   "metadata": {},
   "outputs": [
    {
     "data": {
      "text/plain": [
       "0.5250417495029821"
      ]
     },
     "execution_count": 35,
     "metadata": {},
     "output_type": "execute_result"
    }
   ],
   "source": [
    "#average Accuracy\n",
    "\n",
    "balanced_accuracy_score(y_test, preds1)"
   ]
  },
  {
   "cell_type": "markdown",
   "metadata": {},
   "source": [
    "###### Explanation: again we produce the balanced Accuracy for the two classes to have a complete view on the performance of the model. This time it appears to have worsened compared to the previous model"
   ]
  },
  {
   "cell_type": "markdown",
   "metadata": {},
   "source": [
    "## Question 4"
   ]
  },
  {
   "cell_type": "markdown",
   "metadata": {},
   "source": [
    "### Using GridSearchCV optimize the model to maximize 'recall', once it is optimized obtain the best parameters, a classification report of the model and the confusion matrix.\n",
    "### (Optional) use the 'balanced_accuracy_score' function to verify/extract more conclusions."
   ]
  },
  {
   "cell_type": "code",
   "execution_count": 36,
   "metadata": {},
   "outputs": [
    {
     "data": {
      "text/plain": [
       "GridSearchCV(estimator=RandomForestClassifier(n_estimators=10, random_state=42),\n",
       "             n_jobs=4,\n",
       "             param_grid={'criterion': ['gini'], 'max_depth': [5, 6, 7],\n",
       "                         'n_estimators': [10, 20]},\n",
       "             scoring='recall')"
      ]
     },
     "execution_count": 36,
     "metadata": {},
     "output_type": "execute_result"
    }
   ],
   "source": [
    "#Grid Search on previous model\n",
    "\n",
    "parameters_rf = {'criterion':['gini'], 'n_estimators':[10,20], 'max_depth':[5,6,7]}\n",
    "rgs = GridSearchCV(ens1, parameters_rf, scoring='recall' , n_jobs=4)\n",
    "rgs.fit(X_enc_tr, y_train)"
   ]
  },
  {
   "cell_type": "code",
   "execution_count": 37,
   "metadata": {},
   "outputs": [
    {
     "name": "stdout",
     "output_type": "stream",
     "text": [
      "RandomForestClassifier(max_depth=7, n_estimators=10, random_state=42)\n",
      "{'criterion': 'gini', 'max_depth': 7, 'n_estimators': 10}\n",
      "0.05813291139240506\n"
     ]
    }
   ],
   "source": [
    "#results\n",
    "\n",
    "print(rgs.best_estimator_)\n",
    "print(rgs.best_params_)\n",
    "print(rgs.best_score_)"
   ]
  },
  {
   "cell_type": "code",
   "execution_count": 38,
   "metadata": {},
   "outputs": [
    {
     "name": "stdout",
     "output_type": "stream",
     "text": [
      "0.9008849557522124\n",
      "0.8824049513704686\n"
     ]
    }
   ],
   "source": [
    "#best model\n",
    "\n",
    "best_model = rgs.best_estimator_\n",
    "best_model.fit(X_enc_tr, y_train)\n",
    "print(best_model.score(X_enc_tr, y_train))\n",
    "print(best_model.score(X_enc_ts, y_test))"
   ]
  },
  {
   "cell_type": "markdown",
   "metadata": {},
   "source": [
    "###### Insight: the first improvement we can notice is the huge decrease in overfitting, indeed we have lowered considerably the variation of Accuracy between the train and test set"
   ]
  },
  {
   "cell_type": "code",
   "execution_count": 39,
   "metadata": {},
   "outputs": [],
   "source": [
    "#get predictions\n",
    "\n",
    "preds2 = best_model.predict(X_enc_ts)"
   ]
  },
  {
   "cell_type": "code",
   "execution_count": 40,
   "metadata": {},
   "outputs": [
    {
     "name": "stdout",
     "output_type": "stream",
     "text": [
      "              precision    recall  f1-score   support\n",
      "\n",
      "           0       0.89      0.99      0.94      1006\n",
      "           1       0.17      0.02      0.03       125\n",
      "\n",
      "    accuracy                           0.88      1131\n",
      "   macro avg       0.53      0.50      0.48      1131\n",
      "weighted avg       0.81      0.88      0.84      1131\n",
      "\n"
     ]
    }
   ],
   "source": [
    "#produce classification report\n",
    "\n",
    "report = classification_report(y_test, preds2)\n",
    "print(report)"
   ]
  },
  {
   "cell_type": "markdown",
   "metadata": {},
   "source": [
    "###### Insight: by lowering overfitting, unfortunately, we also impacted the overall quality of the model in the single classes. Indeed, this latter model performs even worse in class 1"
   ]
  },
  {
   "cell_type": "code",
   "execution_count": 41,
   "metadata": {},
   "outputs": [
    {
     "data": {
      "text/plain": [
       "array([[996,  10],\n",
       "       [123,   2]])"
      ]
     },
     "metadata": {},
     "output_type": "display_data"
    },
    {
     "data": {
      "text/plain": [
       "array([[0.99005964, 0.00994036],\n",
       "       [0.984     , 0.016     ]])"
      ]
     },
     "metadata": {},
     "output_type": "display_data"
    }
   ],
   "source": [
    "#get Confusion Matrix\n",
    "\n",
    "cm3 = confusion_matrix(y_test, preds2)                      #with absolute values\n",
    "cm3_n = confusion_matrix(y_test, preds2, normalize='true')  #with normalised values\n",
    "display(cm3)\n",
    "display(cm3_n)"
   ]
  },
  {
   "cell_type": "code",
   "execution_count": 42,
   "metadata": {},
   "outputs": [
    {
     "data": {
      "image/png": "[encoded data removed]",
      "text/plain": [
       "<Figure size 432x288 with 2 Axes>"
      ]
     },
     "metadata": {
      "needs_background": "light"
     },
     "output_type": "display_data"
    },
    {
     "data": {
      "image/png": "[encoded data removed]",
      "text/plain": [
       "<Figure size 432x288 with 2 Axes>"
      ]
     },
     "metadata": {
      "needs_background": "light"
     },
     "output_type": "display_data"
    }
   ],
   "source": [
    "#plot Confusion Matrix\n",
    "\n",
    "cm3_plot = plot_confusion_matrix(best_model, X_enc_ts, y_test, cmap=plt.cm.Blues)                     #with absolute values\n",
    "cm3_n_plot = plot_confusion_matrix(best_model, X_enc_ts, y_test, cmap=plt.cm.Reds, normalize= 'true') #with normalised values"
   ]
  },
  {
   "cell_type": "code",
   "execution_count": 43,
   "metadata": {},
   "outputs": [
    {
     "data": {
      "text/plain": [
       "0.5030298210735586"
      ]
     },
     "execution_count": 43,
     "metadata": {},
     "output_type": "execute_result"
    }
   ],
   "source": [
    "#average Accuracy \n",
    "\n",
    "balanced_accuracy_score(y_test, preds2)"
   ]
  },
  {
   "cell_type": "markdown",
   "metadata": {},
   "source": [
    "###### Explanation: again, we produced the balanced Accuracy on both classes and it is the lowest so far compared to the other models"
   ]
  },
  {
   "cell_type": "markdown",
   "metadata": {},
   "source": [
    "## Question 5"
   ]
  },
  {
   "cell_type": "markdown",
   "metadata": {},
   "source": [
    "### Using the provided code, the StratifiedKFold and GridSearchCV functions; optimize and validate the model with the recall metric.\n",
    "### - Justify the obtained results and compare them with the ones obtained in question 1 and 3.\n",
    "### - (Optional) obtain the confusion matrix and the report from the model with higher score."
   ]
  },
  {
   "cell_type": "code",
   "execution_count": 44,
   "metadata": {},
   "outputs": [],
   "source": [
    "#utilize pipeline for Cross Validation and Grid Search\n",
    "\n",
    "pipe = Pipeline(steps=[('pre',make_column_transformer((StandardScaler(), numerical), (OrdinalEncoder(), categorical))),('SVM',SVC())])\n",
    "parameters1 = {'SVM__kernel':['linear','rbf'],'SVM__C':np.linspace(0.01,10,5), 'SVM__gamma':np.linspace(0.01,10,5)}\n",
    "\n",
    "gs = GridSearchCV(pipe, parameters1, scoring='recall', cv=5)\n",
    "kf = StratifiedKFold(shuffle=True, n_splits=5, random_state=42)\n",
    "cv = cross_validate(gs, X, y, cv=kf, n_jobs=4, return_estimator=True)"
   ]
  },
  {
   "cell_type": "code",
   "execution_count": 49,
   "metadata": {},
   "outputs": [
    {
     "name": "stdout",
     "output_type": "stream",
     "text": [
      "{'fit_time': array([3844.41785192, 4114.04802704, 4072.24600124, 3653.45295   ,\n",
      "       2122.86991382]), 'score_time': array([0.13281989, 0.07411218, 0.11574459, 0.12840605, 0.06173801]), 'estimator': (GridSearchCV(cv=5,\n",
      "             estimator=Pipeline(steps=[('pre',\n",
      "                                        ColumnTransformer(transformers=[('standardscaler',\n",
      "                                                                         StandardScaler(),\n",
      "                                                                         Index(['age', 'balance', 'campaign', 'pdays', 'previous'], dtype='object')),\n",
      "                                                                        ('ordinalencoder',\n",
      "                                                                         OrdinalEncoder(),\n",
      "                                                                         Index(['job', 'marital', 'education', 'housing', 'loan', 'contact'], dtype='object'))])),\n",
      "                                       ('SVM', SVC())]),\n",
      "             param_grid={'SVM__C': array([ 0.01  ,  2.5075,  5.005 ,  7.5025, 10.    ]),\n",
      "                         'SVM__gamma': array([ 0.01  ,  2.5075,  5.005 ,  7.5025, 10.    ]),\n",
      "                         'SVM__kernel': ['linear', 'rbf']},\n",
      "             scoring='recall'), GridSearchCV(cv=5,\n",
      "             estimator=Pipeline(steps=[('pre',\n",
      "                                        ColumnTransformer(transformers=[('standardscaler',\n",
      "                                                                         StandardScaler(),\n",
      "                                                                         Index(['age', 'balance', 'campaign', 'pdays', 'previous'], dtype='object')),\n",
      "                                                                        ('ordinalencoder',\n",
      "                                                                         OrdinalEncoder(),\n",
      "                                                                         Index(['job', 'marital', 'education', 'housing', 'loan', 'contact'], dtype='object'))])),\n",
      "                                       ('SVM', SVC())]),\n",
      "             param_grid={'SVM__C': array([ 0.01  ,  2.5075,  5.005 ,  7.5025, 10.    ]),\n",
      "                         'SVM__gamma': array([ 0.01  ,  2.5075,  5.005 ,  7.5025, 10.    ]),\n",
      "                         'SVM__kernel': ['linear', 'rbf']},\n",
      "             scoring='recall'), GridSearchCV(cv=5,\n",
      "             estimator=Pipeline(steps=[('pre',\n",
      "                                        ColumnTransformer(transformers=[('standardscaler',\n",
      "                                                                         StandardScaler(),\n",
      "                                                                         Index(['age', 'balance', 'campaign', 'pdays', 'previous'], dtype='object')),\n",
      "                                                                        ('ordinalencoder',\n",
      "                                                                         OrdinalEncoder(),\n",
      "                                                                         Index(['job', 'marital', 'education', 'housing', 'loan', 'contact'], dtype='object'))])),\n",
      "                                       ('SVM', SVC())]),\n",
      "             param_grid={'SVM__C': array([ 0.01  ,  2.5075,  5.005 ,  7.5025, 10.    ]),\n",
      "                         'SVM__gamma': array([ 0.01  ,  2.5075,  5.005 ,  7.5025, 10.    ]),\n",
      "                         'SVM__kernel': ['linear', 'rbf']},\n",
      "             scoring='recall'), GridSearchCV(cv=5,\n",
      "             estimator=Pipeline(steps=[('pre',\n",
      "                                        ColumnTransformer(transformers=[('standardscaler',\n",
      "                                                                         StandardScaler(),\n",
      "                                                                         Index(['age', 'balance', 'campaign', 'pdays', 'previous'], dtype='object')),\n",
      "                                                                        ('ordinalencoder',\n",
      "                                                                         OrdinalEncoder(),\n",
      "                                                                         Index(['job', 'marital', 'education', 'housing', 'loan', 'contact'], dtype='object'))])),\n",
      "                                       ('SVM', SVC())]),\n",
      "             param_grid={'SVM__C': array([ 0.01  ,  2.5075,  5.005 ,  7.5025, 10.    ]),\n",
      "                         'SVM__gamma': array([ 0.01  ,  2.5075,  5.005 ,  7.5025, 10.    ]),\n",
      "                         'SVM__kernel': ['linear', 'rbf']},\n",
      "             scoring='recall'), GridSearchCV(cv=5,\n",
      "             estimator=Pipeline(steps=[('pre',\n",
      "                                        ColumnTransformer(transformers=[('standardscaler',\n",
      "                                                                         StandardScaler(),\n",
      "                                                                         Index(['age', 'balance', 'campaign', 'pdays', 'previous'], dtype='object')),\n",
      "                                                                        ('ordinalencoder',\n",
      "                                                                         OrdinalEncoder(),\n",
      "                                                                         Index(['job', 'marital', 'education', 'housing', 'loan', 'contact'], dtype='object'))])),\n",
      "                                       ('SVM', SVC())]),\n",
      "             param_grid={'SVM__C': array([ 0.01  ,  2.5075,  5.005 ,  7.5025, 10.    ]),\n",
      "                         'SVM__gamma': array([ 0.01  ,  2.5075,  5.005 ,  7.5025, 10.    ]),\n",
      "                         'SVM__kernel': ['linear', 'rbf']},\n",
      "             scoring='recall')), 'test_score': array([0.05714286, 0.05769231, 0.07692308, 0.02884615, 0.        ])}\n",
      "0.04412087912087913\n"
     ]
    }
   ],
   "source": [
    "print(cv)\n",
    "print(cv['test_score'].mean())"
   ]
  },
  {
   "cell_type": "markdown",
   "metadata": {},
   "source": [
    "###### Insight: we see no improvement on the Recall even after executing Cross Validation"
   ]
  },
  {
   "cell_type": "code",
   "execution_count": 46,
   "metadata": {},
   "outputs": [],
   "source": [
    "#Model selection\n",
    "\n",
    "best_model1 = cv['estimator'][2].best_estimator_['SVM']"
   ]
  },
  {
   "cell_type": "markdown",
   "metadata": {},
   "source": [
    "###### Insight: the best model resulted to be the third one as we can see from the above report, resulting in a Recall of 0.077"
   ]
  },
  {
   "cell_type": "markdown",
   "metadata": {},
   "source": [
    "###### Explanation: the following part was done to test the obtained model through Cross Validation on the original test set. It is to be noted that this is not a good practice since the observations contained in the original test set could possibily have been used to train the best model during Cross Validation. Either way, this last step was performed in order to see how it would have performed and, indeed, it shows a very high value for the recall of class 1"
   ]
  },
  {
   "cell_type": "code",
   "execution_count": 133,
   "metadata": {},
   "outputs": [],
   "source": [
    "#Get predictions\n",
    "\n",
    "preds4 = best_model1.predict(X_enc_ts)"
   ]
  },
  {
   "cell_type": "code",
   "execution_count": 134,
   "metadata": {},
   "outputs": [
    {
     "data": {
      "text/plain": [
       "array([[998,   8],\n",
       "       [ 31,  94]])"
      ]
     },
     "metadata": {},
     "output_type": "display_data"
    },
    {
     "data": {
      "text/plain": [
       "array([[0.99204771, 0.00795229],\n",
       "       [0.248     , 0.752     ]])"
      ]
     },
     "metadata": {},
     "output_type": "display_data"
    }
   ],
   "source": [
    "#Get Confusion Matrix\n",
    "\n",
    "cm4 = confusion_matrix(y_test, preds4)                      #with absolute values\n",
    "cm4_n = confusion_matrix(y_test, preds4, normalize='true')  #with normalised values\n",
    "display(cm4)\n",
    "display(cm4_n)"
   ]
  },
  {
   "cell_type": "code",
   "execution_count": 125,
   "metadata": {},
   "outputs": [
    {
     "data": {
      "image/png": "[encoded data removed]",
      "text/plain": [
       "<Figure size 432x288 with 2 Axes>"
      ]
     },
     "metadata": {
      "needs_background": "light"
     },
     "output_type": "display_data"
    },
    {
     "data": {
      "image/png": "[encoded data removed]",
      "text/plain": [
       "<Figure size 432x288 with 2 Axes>"
      ]
     },
     "metadata": {
      "needs_background": "light"
     },
     "output_type": "display_data"
    }
   ],
   "source": [
    "#Plot Confusion Matrix\n",
    "\n",
    "cm4_plot = plot_confusion_matrix(best_model1, X_enc_ts, y_test, cmap=plt.cm.Blues)                     #with absolute values\n",
    "cm4_n_plot = plot_confusion_matrix(best_model1, X_enc_ts, y_test, cmap=plt.cm.Reds, normalize= 'true') #with normalised values"
   ]
  },
  {
   "cell_type": "code",
   "execution_count": 135,
   "metadata": {},
   "outputs": [
    {
     "name": "stdout",
     "output_type": "stream",
     "text": [
      "              precision    recall  f1-score   support\n",
      "\n",
      "           0       0.97      0.99      0.98      1006\n",
      "           1       0.92      0.75      0.83       125\n",
      "\n",
      "    accuracy                           0.97      1131\n",
      "   macro avg       0.95      0.87      0.90      1131\n",
      "weighted avg       0.96      0.97      0.96      1131\n",
      "\n"
     ]
    }
   ],
   "source": [
    "#Produce Classification Report\n",
    "\n",
    "report = classification_report(y_test, preds4)\n",
    "print(report)"
   ]
  },
  {
   "cell_type": "code",
   "execution_count": 136,
   "metadata": {},
   "outputs": [
    {
     "data": {
      "text/plain": [
       "0.872023856858847"
      ]
     },
     "execution_count": 136,
     "metadata": {},
     "output_type": "execute_result"
    }
   ],
   "source": [
    "#average Accuracy \n",
    "\n",
    "balanced_accuracy_score(y_test, preds4)"
   ]
  },
  {
   "cell_type": "markdown",
   "metadata": {},
   "source": [
    "###### Insight: this last model shows the best metrics compared to the previous ones when used on the original test set. Again, we should not take these results as real improvements because of the way Cross Validation is performed, but as additional steps for the curiosity of the reader"
   ]
  }
 ],
 "metadata": {
  "kernelspec": {
   "display_name": "Python 3",
   "language": "python",
   "name": "python3"
  },
  "language_info": {
   "codemirror_mode": {
    "name": "ipython",
    "version": 3
   },
   "file_extension": ".py",
   "mimetype": "text/x-python",
   "name": "python",
   "nbconvert_exporter": "python",
   "pygments_lexer": "ipython3",
   "version": "3.8.5"
  }
 },
 "nbformat": 4,
 "nbformat_minor": 4
}
